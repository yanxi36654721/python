{
 "cells": [
  {
   "cell_type": "code",
   "execution_count": 1,
   "id": "67c182a9",
   "metadata": {},
   "outputs": [
    {
     "name": "stdout",
     "output_type": "stream",
     "text": [
      "付费集ID数：923\n",
      "付费集弹幕数：8739\n"
     ]
    }
   ],
   "source": [
    "import requests\n",
    "import re\n",
    "import json\n",
    " \n",
    " \n",
    "url = 'https://manbo.hongdoulive.com/Activecard/episode?id=1686842611861553207&radioDramaId=1680943354021413001&t=1655200802328' # 任意一集的链接，不能是剧集链接！\n",
    "episode_id = url.split('id=')[1][:19]\n",
    "radio_id = url.split('DramaId=')[1][:19]\n",
    "new_url = \"https://manbo.hongrenshuo.com.cn/api/v207/radio/drama/set/h5/detail?radioDramaSetId=%s&radioDramaId=%s\" % (episode_id, radio_id)\n",
    "r = requests.get(new_url)\n",
    "res = json.loads(r.content)\n",
    "episode = []\n",
    "num = str(r.content).count('vipFree')\n",
    "for i in range(1, num):\n",
    "    temp = str(res['b']).split(\"setId': \")[i]\n",
    "    if 'vipFree' not in temp:\n",
    "        continue\n",
    "    if temp.split(\"'payType': \")[1][0] == '1' or temp.split(\"'vipFree': \")[1][0] == '1':\n",
    "        episode.append(str(res['b']).split(\"setId': \")[i][:19])\n",
    " \n",
    "danmu = []\n",
    "for each in set(episode):\n",
    "    next_url = \"https://manbo.hongrenshuo.com.cn/api/v11/radio/drama/set/danmaku/h5/pull?radioDramaSetId=%s&startTime=0&endTime=10000000\" % each\n",
    "    r = requests.get(next_url)\n",
    "    res = json.loads(r.content)['b']\n",
    "    for j in res['danmakuList']:\n",
    "        danmu.append(j['eid'])\n",
    " \n",
    "print(\"付费集ID数：%d\" % len(set(danmu)))\n",
    "print(\"付费集弹幕数：%d\" % len(danmu))"
   ]
  }
 ],
 "metadata": {
  "kernelspec": {
   "display_name": "Python 3 (ipykernel)",
   "language": "python",
   "name": "python3"
  },
  "language_info": {
   "codemirror_mode": {
    "name": "ipython",
    "version": 3
   },
   "file_extension": ".py",
   "mimetype": "text/x-python",
   "name": "python",
   "nbconvert_exporter": "python",
   "pygments_lexer": "ipython3",
   "version": "3.9.10+"
  }
 },
 "nbformat": 4,
 "nbformat_minor": 5
}
